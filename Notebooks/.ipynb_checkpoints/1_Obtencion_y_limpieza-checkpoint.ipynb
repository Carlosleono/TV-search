{
 "cells": [
  {
   "cell_type": "code",
   "execution_count": 1,
   "id": "2105d116",
   "metadata": {},
   "outputs": [],
   "source": [
    "from selenium import webdriver\n",
    "from selenium.webdriver.chrome.options import Options\n",
    "import time\n",
    "import pandas as pd\n",
    "from selenium.webdriver.support.ui import Select\n",
    "from webdriver_manager.chrome import ChromeDriverManager"
   ]
  },
  {
   "cell_type": "code",
   "execution_count": null,
   "id": "bd9820b5",
   "metadata": {},
   "outputs": [],
   "source": [
    "opciones=Options()\n",
    "\n",
    "opciones.add_experimental_option('excludeSwitches', ['enable-automation'])\n",
    "opciones.add_experimental_option('useAutomationExtension', False)"
   ]
  },
  {
   "cell_type": "code",
   "execution_count": 1,
   "id": "f5cabc80",
   "metadata": {},
   "outputs": [],
   "source": [
    "driver= webdriver.Chrome('./chromedriver.exe')\n",
    "\n",
    "tabla2 = []\n",
    "precios = []\n",
    "modelo = []\n",
    "url2 = 'https://www.worten.es/'\n",
    "\n",
    "driver.get(url2)\n",
    "driver.implicitly_wait(2)\n",
    "\n",
    "driver.find_element_by_css_selector(\"body > div.w-cookies-popup__wrapper > section > div.w-cookies-popup__footer > div.w-cookies-popup__footer__primary-button > button\").click()\n",
    "driver.find_element_by_css_selector(\"#search-input\").send_keys(\"televisores\")\n",
    "driver.find_element_by_css_selector(\"#Autocomplete > section > div > div > ul > li:nth-child(1) > a > div > span:nth-child(2) > span > strong\").click()\n",
    "\n",
    "for pag in range(1,5):\n",
    "\n",
    "    url= f'https://www.worten.es/search?query=televisores&page={pag}'\n",
    "    driver.get(url)\n",
    "    for i in range(1,25):\n",
    "                                                              \n",
    "        try: \n",
    "            modelo.append(driver.find_element_by_css_selector(f'#products-list-block > div:nth-child({i}) > div > a > div > div.w-product__description > div.w-product__title__wrapper > h3').text)\n",
    "            precios.append(driver.find_element_by_css_selector(f'#products-list-block > div:nth-child({i}) > div > a > div > div.w-product__details > div:nth-child(2) > span.w-currentPrice.iss-current-price > span').text)\n",
    "            driver.find_element_by_css_selector(f\"#products-list-block > div:nth-child({i}) > div > a > div > div.w-product__description > div.w-product__title__wrapper > h3\").click()\n",
    "            tabla2.append(driver.find_element_by_css_selector(\"#maincontent > div > div.w-section__wrapper.w-section__container-center.w-margin-top > div > div > section.w-product-details.w-section__block.w-margin-top > div > div > div:nth-child(2)\").text)\n",
    "            \n",
    "        except:\n",
    "            print('hola')\n",
    "            driver.find_element_by_css_selector(\"#twotabsearchtextbox\").click()\n",
    "            driver.find_element_by_css_selector(\"#nav-search-submit-button\").click()\n",
    "        driver.get(url)\n",
    "        driver.implicitly_wait(2)\n",
    "    \n"
   ]
  },
  {
   "cell_type": "code",
   "execution_count": 81,
   "id": "ccce3562",
   "metadata": {},
   "outputs": [],
   "source": [
    "modelo = modelo[:116]"
   ]
  },
  {
   "cell_type": "code",
   "execution_count": 99,
   "id": "99109e89",
   "metadata": {},
   "outputs": [],
   "source": [
    "teles= tabla2[:98]"
   ]
  },
  {
   "cell_type": "code",
   "execution_count": 100,
   "id": "e3b88f06",
   "metadata": {},
   "outputs": [
    {
     "data": {
      "text/plain": [
       "98"
      ]
     },
     "execution_count": 100,
     "metadata": {},
     "output_type": "execute_result"
    }
   ],
   "source": [
    "len(teles)"
   ]
  },
  {
   "cell_type": "code",
   "execution_count": 101,
   "id": "68482252",
   "metadata": {},
   "outputs": [
    {
     "data": {
      "text/plain": [
       "['Imagen',\n",
       " 'Diagonal de la pantalla',\n",
       " \"55'' (140 cm)\",\n",
       " 'Distancia mínima de visualización',\n",
       " '1.68',\n",
       " 'Tecnología del fabricante',\n",
       " 'OLED',\n",
       " 'Tipo de pantalla',\n",
       " 'OLED',\n",
       " 'Resolución',\n",
       " '4K Ultra HD',\n",
       " 'Retroiluminación',\n",
       " 'Pixel Dimming',\n",
       " 'Procesador',\n",
       " '4K ¿9 Gen4',\n",
       " 'Formatos HDR',\n",
       " 'HDR 10 Pro, HLG Pro',\n",
       " 'Modos de imagen',\n",
       " 'Modo Director',\n",
       " 'Tecnologías gaming',\n",
       " 'nVIDIA G-Sync Compatible, AMD FreeSync Compatible, HDR GiG, VRR / ALLM, Cloud Gaming Stadia, HDMI 2.1',\n",
       " 'Smart TV & Domótica',\n",
       " 'Smart TV',\n",
       " 'Sí',\n",
       " 'Sistema operativo',\n",
       " 'webOS 6.0',\n",
       " 'Aplicaciones',\n",
       " 'Apple TV | Netflix | YouTube | Movistart+ | Disney + | HBO | Prime Video | RTVE | Wuaki | FilmIn | Orange TV | AtresMedia Player | Google Play | GameFly | Spotify | El Pais TV | Bein Sports | LG TV Plus',\n",
       " 'Conexión con múltiples dispositivos',\n",
       " 'Airplay 2, Home Kit, Miracast',\n",
       " 'Compatible con asistentes inteligentes',\n",
       " 'Google Assistant, Alexa',\n",
       " 'Reconocimiento de voz',\n",
       " 'Sí, con el mando incluido',\n",
       " 'Sonido',\n",
       " 'Potencia de sonido total',\n",
       " '40 W',\n",
       " 'Altavoces integrados',\n",
       " '2.2',\n",
       " 'Subwoofer',\n",
       " 'Sí',\n",
       " 'Tecnologías audio',\n",
       " 'Dolby Atmos, AI Sound Pro',\n",
       " 'Conexiones',\n",
       " 'Bluetooth',\n",
       " 'Sí',\n",
       " 'N.º de entradas HDMI',\n",
       " '4',\n",
       " 'N.º de puertos USB',\n",
       " '3',\n",
       " 'Salida para auriculares',\n",
       " 'Sí',\n",
       " 'Otras conexiones',\n",
       " 'DVB-T2/T',\n",
       " ' ']"
      ]
     },
     "execution_count": 101,
     "metadata": {},
     "output_type": "execute_result"
    }
   ],
   "source": [
    "teles[0].split('\\n')"
   ]
  },
  {
   "cell_type": "code",
   "execution_count": 2,
   "id": "64cc9025",
   "metadata": {},
   "outputs": [],
   "source": [
    "import re\n",
    "columnas = ['Modelo', 'Precio','Tamaño', 'Distancia', 'Tecnología', 'Resolución', 'Smart TV', 'Sonido', 'Altavoces', 'HDMI']\n",
    "televisiones = []\n",
    "\n",
    "for tele in teles:\n",
    "    caracteristicas={}\n",
    "    indice = teles.index(tele)\n",
    "    caracteristicas['Modelo'] = modelo[indice]\n",
    "    caracteristicas['Precio'] = precios[indice]\n",
    "    listada = tele.split('\\n')\n",
    "    for caract in listada:\n",
    "        try:\n",
    "            ind=listada.index(caract)\n",
    "            if re.match('.*iagonal.*', caract):\n",
    "                caracteristicas['Tamaño'] = listada[ind+1]\n",
    "            elif re.match('.*istancia.*', caract):\n",
    "                caracteristicas['Distancia'] = listada[ind+1]\n",
    "            elif re.match('Tipo de pantalla', caract):\n",
    "                caracteristicas['Tecnología'] = listada[ind+1]\n",
    "            elif re.match('Resolución', caract):\n",
    "                caracteristicas['Resolución'] = listada[ind+1]\n",
    "            elif re.match('Smart TV', caract):\n",
    "                caracteristicas['Smart TV'] = listada[ind+1]\n",
    "            elif re.match('Potencia de sonido.*', caract):\n",
    "                caracteristicas['Sonido'] = listada[ind+1]\n",
    "            elif re.match('Altavoces integrados', caract):\n",
    "                caracteristicas['Altavoces'] = listada[ind+1]\n",
    "            elif re.match('.*entradas HDMI', caract):\n",
    "                caracteristicas['HDMI'] = listada[ind+1]\n",
    "        except:\n",
    "            print(caract)\n",
    "    \n",
    "    televisiones.append(caracteristicas)  "
   ]
  },
  {
   "cell_type": "code",
   "execution_count": 156,
   "id": "1403df06",
   "metadata": {},
   "outputs": [],
   "source": [
    "df = pd.DataFrame(televisiones)"
   ]
  },
  {
   "cell_type": "code",
   "execution_count": 3,
   "id": "fcd16ddf",
   "metadata": {
    "scrolled": true
   },
   "outputs": [
    {
     "ename": "NameError",
     "evalue": "name 'df' is not defined",
     "output_type": "error",
     "traceback": [
      "\u001b[0;31m---------------------------------------------------------------------------\u001b[0m",
      "\u001b[0;31mNameError\u001b[0m                                 Traceback (most recent call last)",
      "\u001b[0;32m<ipython-input-3-c42a15b2c7cf>\u001b[0m in \u001b[0;36m<module>\u001b[0;34m\u001b[0m\n\u001b[0;32m----> 1\u001b[0;31m \u001b[0mdf\u001b[0m\u001b[0;34m.\u001b[0m\u001b[0mhead\u001b[0m\u001b[0;34m(\u001b[0m\u001b[0;34m)\u001b[0m\u001b[0;34m\u001b[0m\u001b[0;34m\u001b[0m\u001b[0m\n\u001b[0m",
      "\u001b[0;31mNameError\u001b[0m: name 'df' is not defined"
     ]
    }
   ],
   "source": [
    "df.head()"
   ]
  },
  {
   "cell_type": "code",
   "execution_count": 158,
   "id": "ecf1a318",
   "metadata": {},
   "outputs": [],
   "source": [
    "df['Marca'] =[modelo.split()[1] for modelo in df['Modelo']]"
   ]
  },
  {
   "cell_type": "code",
   "execution_count": 159,
   "id": "109d4e72",
   "metadata": {},
   "outputs": [],
   "source": [
    "df['Precio'] = [float('.'.join(precio.rstrip('€').split(','))) for precio in df['Precio']]"
   ]
  },
  {
   "cell_type": "code",
   "execution_count": 167,
   "id": "25f1dd92",
   "metadata": {},
   "outputs": [],
   "source": [
    "df['Tamaño'] = [str(pulgadas).split()[0].strip(\"'\") for pulgadas in df['Tamaño']]"
   ]
  },
  {
   "cell_type": "code",
   "execution_count": 154,
   "id": "42f26880",
   "metadata": {},
   "outputs": [
    {
     "data": {
      "text/plain": [
       "'5'"
      ]
     },
     "execution_count": 154,
     "metadata": {},
     "output_type": "execute_result"
    }
   ],
   "source": [
    "df['Tamaño'][5].split()[0].strip(\"'\")\n"
   ]
  },
  {
   "cell_type": "code",
   "execution_count": 170,
   "id": "41a4dcfa",
   "metadata": {},
   "outputs": [],
   "source": [
    "df.to_csv('teles.csv')"
   ]
  }
 ],
 "metadata": {
  "kernelspec": {
   "display_name": "ironhack",
   "language": "python",
   "name": "ironhack"
  },
  "language_info": {
   "codemirror_mode": {
    "name": "ipython",
    "version": 3
   },
   "file_extension": ".py",
   "mimetype": "text/x-python",
   "name": "python",
   "nbconvert_exporter": "python",
   "pygments_lexer": "ipython3",
   "version": "3.8.8"
  }
 },
 "nbformat": 4,
 "nbformat_minor": 5
}
