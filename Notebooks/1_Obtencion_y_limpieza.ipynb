{
 "cells": [
  {
   "cell_type": "code",
   "execution_count": 7,
   "id": "2105d116",
   "metadata": {},
   "outputs": [],
   "source": [
    "from selenium import webdriver\n",
    "from selenium.webdriver.chrome.options import Options\n",
    "import time\n",
    "import pandas as pd\n",
    "from selenium.webdriver.support.ui import Select\n",
    "from webdriver_manager.chrome import ChromeDriverManager"
   ]
  },
  {
   "cell_type": "code",
   "execution_count": 8,
   "id": "bd9820b5",
   "metadata": {},
   "outputs": [],
   "source": [
    "opciones=Options()\n",
    "\n",
    "opciones.add_experimental_option('excludeSwitches', ['enable-automation'])\n",
    "opciones.add_experimental_option('useAutomationExtension', False)"
   ]
  },
  {
   "cell_type": "code",
   "execution_count": 9,
   "id": "f5cabc80",
   "metadata": {},
   "outputs": [
    {
     "name": "stderr",
     "output_type": "stream",
     "text": [
      "<ipython-input-9-b8d43f1e2b40>:1: DeprecationWarning: executable_path has been deprecated, please pass in a Service object\n",
      "  driver= webdriver.Chrome('./chromedriver.exe')\n",
      "<ipython-input-9-b8d43f1e2b40>:11: DeprecationWarning: find_element_by_* commands are deprecated. Please use find_element() instead\n",
      "  driver.find_element_by_css_selector(\"body > div.w-cookies-popup__wrapper > section > div.w-cookies-popup__footer > div.w-cookies-popup__footer__primary-button > button\").click()\n",
      "<ipython-input-9-b8d43f1e2b40>:12: DeprecationWarning: find_element_by_* commands are deprecated. Please use find_element() instead\n",
      "  driver.find_element_by_css_selector(\"#search-input\").send_keys(\"televisores\")\n",
      "<ipython-input-9-b8d43f1e2b40>:13: DeprecationWarning: find_element_by_* commands are deprecated. Please use find_element() instead\n",
      "  driver.find_element_by_css_selector(\"#Autocomplete > section > div > div > ul > li:nth-child(1) > a > div > span:nth-child(2) > span > strong\").click()\n",
      "<ipython-input-9-b8d43f1e2b40>:22: DeprecationWarning: find_element_by_* commands are deprecated. Please use find_element() instead\n",
      "  modelo2.append(driver.find_element_by_css_selector(f'#products-list-block > div:nth-child({i}) > div > a > div > div.w-product__description > div.w-product__title__wrapper > h3').text)\n",
      "<ipython-input-9-b8d43f1e2b40>:23: DeprecationWarning: find_element_by_* commands are deprecated. Please use find_element() instead\n",
      "  precios2.append(driver.find_element_by_css_selector(f'#products-list-block > div:nth-child({i}) > div > a > div > div.w-product__details > div:nth-child(2) > span.w-currentPrice.iss-current-price > span').text)\n",
      "<ipython-input-9-b8d43f1e2b40>:24: DeprecationWarning: find_element_by_* commands are deprecated. Please use find_element() instead\n",
      "  driver.find_element_by_css_selector(f\"#products-list-block > div:nth-child({i}) > div > a > div > div.w-product__description > div.w-product__title__wrapper > h3\").click()\n",
      "<ipython-input-9-b8d43f1e2b40>:25: DeprecationWarning: find_element_by_* commands are deprecated. Please use find_element() instead\n",
      "  tabla3.append(driver.find_element_by_css_selector(\"#maincontent > div > div.w-section__wrapper.w-section__container-center.w-margin-top > div > div > section.w-product-details.w-section__block.w-margin-top > div > div > div:nth-child(2)\").text)\n"
     ]
    },
    {
     "name": "stdout",
     "output_type": "stream",
     "text": [
      "hola\n"
     ]
    },
    {
     "name": "stderr",
     "output_type": "stream",
     "text": [
      "<ipython-input-9-b8d43f1e2b40>:29: DeprecationWarning: find_element_by_* commands are deprecated. Please use find_element() instead\n",
      "  driver.find_element_by_css_selector(\"#twotabsearchtextbox\").click()\n"
     ]
    },
    {
     "ename": "NoSuchWindowException",
     "evalue": "Message: no such window: target window already closed\nfrom unknown error: web view not found\n  (Session info: chrome=96.0.4664.45)\nStacktrace:\nBacktrace:\n\tOrdinal0 [0x00586903+2517251]\n\tOrdinal0 [0x0051F8E1+2095329]\n\tOrdinal0 [0x00422848+1058888]\n\tOrdinal0 [0x0040BF90+966544]\n\tOrdinal0 [0x00468999+1345945]\n\tOrdinal0 [0x00475342+1397570]\n\tOrdinal0 [0x0046639B+1336219]\n\tOrdinal0 [0x004427A7+1189799]\n\tOrdinal0 [0x00443609+1193481]\n\tGetHandleVerifier [0x00715904+1577972]\n\tGetHandleVerifier [0x007C0B97+2279047]\n\tGetHandleVerifier [0x00616D09+534521]\n\tGetHandleVerifier [0x00615DB9+530601]\n\tOrdinal0 [0x00524FF9+2117625]\n\tOrdinal0 [0x005298A8+2136232]\n\tOrdinal0 [0x005299E2+2136546]\n\tOrdinal0 [0x00533541+2176321]\n\tBaseThreadInitThunk [0x7601FA29+25]\n\tRtlGetAppContainerNamedObjectPath [0x77877A9E+286]\n\tRtlGetAppContainerNamedObjectPath [0x77877A6E+238]\n",
     "output_type": "error",
     "traceback": [
      "\u001b[0;31m---------------------------------------------------------------------------\u001b[0m",
      "\u001b[0;31mAttributeError\u001b[0m                            Traceback (most recent call last)",
      "\u001b[0;32m<ipython-input-9-b8d43f1e2b40>\u001b[0m in \u001b[0;36m<module>\u001b[0;34m\u001b[0m\n\u001b[1;32m     24\u001b[0m             \u001b[0mdriver\u001b[0m\u001b[0;34m.\u001b[0m\u001b[0mfind_element_by_css_selector\u001b[0m\u001b[0;34m(\u001b[0m\u001b[0;34mf\"#products-list-block > div:nth-child({i}) > div > a > div > div.w-product__description > div.w-product__title__wrapper > h3\"\u001b[0m\u001b[0;34m)\u001b[0m\u001b[0;34m.\u001b[0m\u001b[0mclick\u001b[0m\u001b[0;34m(\u001b[0m\u001b[0;34m)\u001b[0m\u001b[0;34m\u001b[0m\u001b[0;34m\u001b[0m\u001b[0m\n\u001b[0;32m---> 25\u001b[0;31m             \u001b[0mtabla3\u001b[0m\u001b[0;34m.\u001b[0m\u001b[0mappend\u001b[0m\u001b[0;34m(\u001b[0m\u001b[0mdriver\u001b[0m\u001b[0;34m.\u001b[0m\u001b[0mfind_element_by_css_selector\u001b[0m\u001b[0;34m(\u001b[0m\u001b[0;34m\"#maincontent > div > div.w-section__wrapper.w-section__container-center.w-margin-top > div > div > section.w-product-details.w-section__block.w-margin-top > div > div > div:nth-child(2)\"\u001b[0m\u001b[0;34m)\u001b[0m\u001b[0;34m.\u001b[0m\u001b[0mtext\u001b[0m\u001b[0;34m)\u001b[0m\u001b[0;34m\u001b[0m\u001b[0;34m\u001b[0m\u001b[0m\n\u001b[0m\u001b[1;32m     26\u001b[0m \u001b[0;34m\u001b[0m\u001b[0m\n",
      "\u001b[0;31mAttributeError\u001b[0m: 'NoneType' object has no attribute 'text'",
      "\nDuring handling of the above exception, another exception occurred:\n",
      "\u001b[0;31mNoSuchWindowException\u001b[0m                     Traceback (most recent call last)",
      "\u001b[0;32m<ipython-input-9-b8d43f1e2b40>\u001b[0m in \u001b[0;36m<module>\u001b[0;34m\u001b[0m\n\u001b[1;32m     27\u001b[0m         \u001b[0;32mexcept\u001b[0m\u001b[0;34m:\u001b[0m\u001b[0;34m\u001b[0m\u001b[0;34m\u001b[0m\u001b[0m\n\u001b[1;32m     28\u001b[0m             \u001b[0mprint\u001b[0m\u001b[0;34m(\u001b[0m\u001b[0;34m'hola'\u001b[0m\u001b[0;34m)\u001b[0m\u001b[0;34m\u001b[0m\u001b[0;34m\u001b[0m\u001b[0m\n\u001b[0;32m---> 29\u001b[0;31m             \u001b[0mdriver\u001b[0m\u001b[0;34m.\u001b[0m\u001b[0mfind_element_by_css_selector\u001b[0m\u001b[0;34m(\u001b[0m\u001b[0;34m\"#twotabsearchtextbox\"\u001b[0m\u001b[0;34m)\u001b[0m\u001b[0;34m.\u001b[0m\u001b[0mclick\u001b[0m\u001b[0;34m(\u001b[0m\u001b[0;34m)\u001b[0m\u001b[0;34m\u001b[0m\u001b[0;34m\u001b[0m\u001b[0m\n\u001b[0m\u001b[1;32m     30\u001b[0m             \u001b[0mdriver\u001b[0m\u001b[0;34m.\u001b[0m\u001b[0mfind_element_by_css_selector\u001b[0m\u001b[0;34m(\u001b[0m\u001b[0;34m\"#nav-search-submit-button\"\u001b[0m\u001b[0;34m)\u001b[0m\u001b[0;34m.\u001b[0m\u001b[0mclick\u001b[0m\u001b[0;34m(\u001b[0m\u001b[0;34m)\u001b[0m\u001b[0;34m\u001b[0m\u001b[0;34m\u001b[0m\u001b[0m\n\u001b[1;32m     31\u001b[0m         \u001b[0mdriver\u001b[0m\u001b[0;34m.\u001b[0m\u001b[0mget\u001b[0m\u001b[0;34m(\u001b[0m\u001b[0murl\u001b[0m\u001b[0;34m)\u001b[0m\u001b[0;34m\u001b[0m\u001b[0;34m\u001b[0m\u001b[0m\n",
      "\u001b[0;32m~/anaconda3/lib/python3.8/site-packages/selenium/webdriver/remote/webdriver.py\u001b[0m in \u001b[0;36mfind_element_by_css_selector\u001b[0;34m(self, css_selector)\u001b[0m\n\u001b[1;32m    800\u001b[0m             \u001b[0mstacklevel\u001b[0m\u001b[0;34m=\u001b[0m\u001b[0;36m2\u001b[0m\u001b[0;34m,\u001b[0m\u001b[0;34m\u001b[0m\u001b[0;34m\u001b[0m\u001b[0m\n\u001b[1;32m    801\u001b[0m         )\n\u001b[0;32m--> 802\u001b[0;31m         \u001b[0;32mreturn\u001b[0m \u001b[0mself\u001b[0m\u001b[0;34m.\u001b[0m\u001b[0mfind_element\u001b[0m\u001b[0;34m(\u001b[0m\u001b[0mby\u001b[0m\u001b[0;34m=\u001b[0m\u001b[0mBy\u001b[0m\u001b[0;34m.\u001b[0m\u001b[0mCSS_SELECTOR\u001b[0m\u001b[0;34m,\u001b[0m \u001b[0mvalue\u001b[0m\u001b[0;34m=\u001b[0m\u001b[0mcss_selector\u001b[0m\u001b[0;34m)\u001b[0m\u001b[0;34m\u001b[0m\u001b[0;34m\u001b[0m\u001b[0m\n\u001b[0m\u001b[1;32m    803\u001b[0m \u001b[0;34m\u001b[0m\u001b[0m\n\u001b[1;32m    804\u001b[0m     \u001b[0;32mdef\u001b[0m \u001b[0mfind_elements_by_css_selector\u001b[0m\u001b[0;34m(\u001b[0m\u001b[0mself\u001b[0m\u001b[0;34m,\u001b[0m \u001b[0mcss_selector\u001b[0m\u001b[0;34m)\u001b[0m \u001b[0;34m->\u001b[0m \u001b[0mWebElement\u001b[0m\u001b[0;34m:\u001b[0m\u001b[0;34m\u001b[0m\u001b[0;34m\u001b[0m\u001b[0m\n",
      "\u001b[0;32m~/anaconda3/lib/python3.8/site-packages/selenium/webdriver/remote/webdriver.py\u001b[0m in \u001b[0;36mfind_element\u001b[0;34m(self, by, value)\u001b[0m\n\u001b[1;32m   1236\u001b[0m             \u001b[0mvalue\u001b[0m \u001b[0;34m=\u001b[0m \u001b[0;34m'[name=\"%s\"]'\u001b[0m \u001b[0;34m%\u001b[0m \u001b[0mvalue\u001b[0m\u001b[0;34m\u001b[0m\u001b[0;34m\u001b[0m\u001b[0m\n\u001b[1;32m   1237\u001b[0m \u001b[0;34m\u001b[0m\u001b[0m\n\u001b[0;32m-> 1238\u001b[0;31m         return self.execute(Command.FIND_ELEMENT, {\n\u001b[0m\u001b[1;32m   1239\u001b[0m             \u001b[0;34m'using'\u001b[0m\u001b[0;34m:\u001b[0m \u001b[0mby\u001b[0m\u001b[0;34m,\u001b[0m\u001b[0;34m\u001b[0m\u001b[0;34m\u001b[0m\u001b[0m\n\u001b[1;32m   1240\u001b[0m             'value': value})['value']\n",
      "\u001b[0;32m~/anaconda3/lib/python3.8/site-packages/selenium/webdriver/remote/webdriver.py\u001b[0m in \u001b[0;36mexecute\u001b[0;34m(self, driver_command, params)\u001b[0m\n\u001b[1;32m    416\u001b[0m         \u001b[0mresponse\u001b[0m \u001b[0;34m=\u001b[0m \u001b[0mself\u001b[0m\u001b[0;34m.\u001b[0m\u001b[0mcommand_executor\u001b[0m\u001b[0;34m.\u001b[0m\u001b[0mexecute\u001b[0m\u001b[0;34m(\u001b[0m\u001b[0mdriver_command\u001b[0m\u001b[0;34m,\u001b[0m \u001b[0mparams\u001b[0m\u001b[0;34m)\u001b[0m\u001b[0;34m\u001b[0m\u001b[0;34m\u001b[0m\u001b[0m\n\u001b[1;32m    417\u001b[0m         \u001b[0;32mif\u001b[0m \u001b[0mresponse\u001b[0m\u001b[0;34m:\u001b[0m\u001b[0;34m\u001b[0m\u001b[0;34m\u001b[0m\u001b[0m\n\u001b[0;32m--> 418\u001b[0;31m             \u001b[0mself\u001b[0m\u001b[0;34m.\u001b[0m\u001b[0merror_handler\u001b[0m\u001b[0;34m.\u001b[0m\u001b[0mcheck_response\u001b[0m\u001b[0;34m(\u001b[0m\u001b[0mresponse\u001b[0m\u001b[0;34m)\u001b[0m\u001b[0;34m\u001b[0m\u001b[0;34m\u001b[0m\u001b[0m\n\u001b[0m\u001b[1;32m    419\u001b[0m             response['value'] = self._unwrap_value(\n\u001b[1;32m    420\u001b[0m                 response.get('value', None))\n",
      "\u001b[0;32m~/anaconda3/lib/python3.8/site-packages/selenium/webdriver/remote/errorhandler.py\u001b[0m in \u001b[0;36mcheck_response\u001b[0;34m(self, response)\u001b[0m\n\u001b[1;32m    241\u001b[0m                 \u001b[0malert_text\u001b[0m \u001b[0;34m=\u001b[0m \u001b[0mvalue\u001b[0m\u001b[0;34m[\u001b[0m\u001b[0;34m'alert'\u001b[0m\u001b[0;34m]\u001b[0m\u001b[0;34m.\u001b[0m\u001b[0mget\u001b[0m\u001b[0;34m(\u001b[0m\u001b[0;34m'text'\u001b[0m\u001b[0;34m)\u001b[0m\u001b[0;34m\u001b[0m\u001b[0;34m\u001b[0m\u001b[0m\n\u001b[1;32m    242\u001b[0m             \u001b[0;32mraise\u001b[0m \u001b[0mexception_class\u001b[0m\u001b[0;34m(\u001b[0m\u001b[0mmessage\u001b[0m\u001b[0;34m,\u001b[0m \u001b[0mscreen\u001b[0m\u001b[0;34m,\u001b[0m \u001b[0mstacktrace\u001b[0m\u001b[0;34m,\u001b[0m \u001b[0malert_text\u001b[0m\u001b[0;34m)\u001b[0m  \u001b[0;31m# type: ignore[call-arg]  # mypy is not smart enough here\u001b[0m\u001b[0;34m\u001b[0m\u001b[0;34m\u001b[0m\u001b[0m\n\u001b[0;32m--> 243\u001b[0;31m         \u001b[0;32mraise\u001b[0m \u001b[0mexception_class\u001b[0m\u001b[0;34m(\u001b[0m\u001b[0mmessage\u001b[0m\u001b[0;34m,\u001b[0m \u001b[0mscreen\u001b[0m\u001b[0;34m,\u001b[0m \u001b[0mstacktrace\u001b[0m\u001b[0;34m)\u001b[0m\u001b[0;34m\u001b[0m\u001b[0;34m\u001b[0m\u001b[0m\n\u001b[0m\u001b[1;32m    244\u001b[0m \u001b[0;34m\u001b[0m\u001b[0m\n\u001b[1;32m    245\u001b[0m     \u001b[0;32mdef\u001b[0m \u001b[0m_value_or_default\u001b[0m\u001b[0;34m(\u001b[0m\u001b[0mself\u001b[0m\u001b[0;34m,\u001b[0m \u001b[0mobj\u001b[0m\u001b[0;34m:\u001b[0m \u001b[0mMapping\u001b[0m\u001b[0;34m[\u001b[0m\u001b[0m_KT\u001b[0m\u001b[0;34m,\u001b[0m \u001b[0m_VT\u001b[0m\u001b[0;34m]\u001b[0m\u001b[0;34m,\u001b[0m \u001b[0mkey\u001b[0m\u001b[0;34m:\u001b[0m \u001b[0m_KT\u001b[0m\u001b[0;34m,\u001b[0m \u001b[0mdefault\u001b[0m\u001b[0;34m:\u001b[0m \u001b[0m_VT\u001b[0m\u001b[0;34m)\u001b[0m \u001b[0;34m->\u001b[0m \u001b[0m_VT\u001b[0m\u001b[0;34m:\u001b[0m\u001b[0;34m\u001b[0m\u001b[0;34m\u001b[0m\u001b[0m\n",
      "\u001b[0;31mNoSuchWindowException\u001b[0m: Message: no such window: target window already closed\nfrom unknown error: web view not found\n  (Session info: chrome=96.0.4664.45)\nStacktrace:\nBacktrace:\n\tOrdinal0 [0x00586903+2517251]\n\tOrdinal0 [0x0051F8E1+2095329]\n\tOrdinal0 [0x00422848+1058888]\n\tOrdinal0 [0x0040BF90+966544]\n\tOrdinal0 [0x00468999+1345945]\n\tOrdinal0 [0x00475342+1397570]\n\tOrdinal0 [0x0046639B+1336219]\n\tOrdinal0 [0x004427A7+1189799]\n\tOrdinal0 [0x00443609+1193481]\n\tGetHandleVerifier [0x00715904+1577972]\n\tGetHandleVerifier [0x007C0B97+2279047]\n\tGetHandleVerifier [0x00616D09+534521]\n\tGetHandleVerifier [0x00615DB9+530601]\n\tOrdinal0 [0x00524FF9+2117625]\n\tOrdinal0 [0x005298A8+2136232]\n\tOrdinal0 [0x005299E2+2136546]\n\tOrdinal0 [0x00533541+2176321]\n\tBaseThreadInitThunk [0x7601FA29+25]\n\tRtlGetAppContainerNamedObjectPath [0x77877A9E+286]\n\tRtlGetAppContainerNamedObjectPath [0x77877A6E+238]\n"
     ]
    }
   ],
   "source": [
    "driver= webdriver.Chrome('./chromedriver.exe')\n",
    "\n",
    "tabla3 = []\n",
    "precios2 = []\n",
    "modelo2 = []\n",
    "url2 = 'https://www.worten.es/'\n",
    "\n",
    "driver.get(url2)\n",
    "driver.implicitly_wait(2)\n",
    "\n",
    "driver.find_element_by_css_selector(\"body > div.w-cookies-popup__wrapper > section > div.w-cookies-popup__footer > div.w-cookies-popup__footer__primary-button > button\").click()\n",
    "driver.find_element_by_css_selector(\"#search-input\").send_keys(\"televisores\")\n",
    "driver.find_element_by_css_selector(\"#Autocomplete > section > div > div > ul > li:nth-child(1) > a > div > span:nth-child(2) > span > strong\").click()\n",
    "\n",
    "for pag in range(1,5):\n",
    "\n",
    "    url= f'https://www.worten.es/search?query=televisores&page={pag}'\n",
    "    driver.get(url)\n",
    "    for i in range(1,25):\n",
    "                                                              \n",
    "        try: \n",
    "            modelo2.append(driver.find_element_by_css_selector(f'#products-list-block > div:nth-child({i}) > div > a > div > div.w-product__description > div.w-product__title__wrapper > h3').text)\n",
    "            precios2.append(driver.find_element_by_css_selector(f'#products-list-block > div:nth-child({i}) > div > a > div > div.w-product__details > div:nth-child(2) > span.w-currentPrice.iss-current-price > span').text)\n",
    "            driver.find_element_by_css_selector(f\"#products-list-block > div:nth-child({i}) > div > a > div > div.w-product__description > div.w-product__title__wrapper > h3\").click()\n",
    "            tabla3.append(driver.find_element_by_css_selector(\"#maincontent > div > div.w-section__wrapper.w-section__container-center.w-margin-top > div > div > section.w-product-details.w-section__block.w-margin-top > div > div > div:nth-child(2)\").text)\n",
    "            \n",
    "        except:\n",
    "            print('hola')\n",
    "            driver.find_element_by_css_selector(\"#twotabsearchtextbox\").click()\n",
    "            driver.find_element_by_css_selector(\"#nav-search-submit-button\").click()\n",
    "        driver.get(url)\n",
    "        driver.implicitly_wait(2)\n",
    "    \n"
   ]
  },
  {
   "cell_type": "code",
   "execution_count": 81,
   "id": "ccce3562",
   "metadata": {},
   "outputs": [],
   "source": [
    "modelo = modelo[:116]"
   ]
  },
  {
   "cell_type": "code",
   "execution_count": 99,
   "id": "99109e89",
   "metadata": {},
   "outputs": [],
   "source": [
    "teles= tabla2[:98]"
   ]
  },
  {
   "cell_type": "code",
   "execution_count": 100,
   "id": "e3b88f06",
   "metadata": {},
   "outputs": [
    {
     "data": {
      "text/plain": [
       "98"
      ]
     },
     "execution_count": 100,
     "metadata": {},
     "output_type": "execute_result"
    }
   ],
   "source": [
    "len(teles)"
   ]
  },
  {
   "cell_type": "code",
   "execution_count": 101,
   "id": "68482252",
   "metadata": {},
   "outputs": [
    {
     "data": {
      "text/plain": [
       "['Imagen',\n",
       " 'Diagonal de la pantalla',\n",
       " \"55'' (140 cm)\",\n",
       " 'Distancia mínima de visualización',\n",
       " '1.68',\n",
       " 'Tecnología del fabricante',\n",
       " 'OLED',\n",
       " 'Tipo de pantalla',\n",
       " 'OLED',\n",
       " 'Resolución',\n",
       " '4K Ultra HD',\n",
       " 'Retroiluminación',\n",
       " 'Pixel Dimming',\n",
       " 'Procesador',\n",
       " '4K ¿9 Gen4',\n",
       " 'Formatos HDR',\n",
       " 'HDR 10 Pro, HLG Pro',\n",
       " 'Modos de imagen',\n",
       " 'Modo Director',\n",
       " 'Tecnologías gaming',\n",
       " 'nVIDIA G-Sync Compatible, AMD FreeSync Compatible, HDR GiG, VRR / ALLM, Cloud Gaming Stadia, HDMI 2.1',\n",
       " 'Smart TV & Domótica',\n",
       " 'Smart TV',\n",
       " 'Sí',\n",
       " 'Sistema operativo',\n",
       " 'webOS 6.0',\n",
       " 'Aplicaciones',\n",
       " 'Apple TV | Netflix | YouTube | Movistart+ | Disney + | HBO | Prime Video | RTVE | Wuaki | FilmIn | Orange TV | AtresMedia Player | Google Play | GameFly | Spotify | El Pais TV | Bein Sports | LG TV Plus',\n",
       " 'Conexión con múltiples dispositivos',\n",
       " 'Airplay 2, Home Kit, Miracast',\n",
       " 'Compatible con asistentes inteligentes',\n",
       " 'Google Assistant, Alexa',\n",
       " 'Reconocimiento de voz',\n",
       " 'Sí, con el mando incluido',\n",
       " 'Sonido',\n",
       " 'Potencia de sonido total',\n",
       " '40 W',\n",
       " 'Altavoces integrados',\n",
       " '2.2',\n",
       " 'Subwoofer',\n",
       " 'Sí',\n",
       " 'Tecnologías audio',\n",
       " 'Dolby Atmos, AI Sound Pro',\n",
       " 'Conexiones',\n",
       " 'Bluetooth',\n",
       " 'Sí',\n",
       " 'N.º de entradas HDMI',\n",
       " '4',\n",
       " 'N.º de puertos USB',\n",
       " '3',\n",
       " 'Salida para auriculares',\n",
       " 'Sí',\n",
       " 'Otras conexiones',\n",
       " 'DVB-T2/T',\n",
       " ' ']"
      ]
     },
     "execution_count": 101,
     "metadata": {},
     "output_type": "execute_result"
    }
   ],
   "source": [
    "teles[0].split('\\n')"
   ]
  },
  {
   "cell_type": "code",
   "execution_count": 2,
   "id": "64cc9025",
   "metadata": {},
   "outputs": [],
   "source": [
    "import re\n",
    "columnas = ['Modelo', 'Precio','Tamaño', 'Distancia', 'Tecnología', 'Resolución', 'Smart TV', 'Sonido', 'Altavoces', 'HDMI']\n",
    "televisiones = []\n",
    "\n",
    "for tele in teles:\n",
    "    caracteristicas={}\n",
    "    indice = teles.index(tele)\n",
    "    caracteristicas['Modelo'] = modelo[indice]\n",
    "    caracteristicas['Precio'] = precios[indice]\n",
    "    listada = tele.split('\\n')\n",
    "    for caract in listada:\n",
    "        try:\n",
    "            ind=listada.index(caract)\n",
    "            if re.match('.*iagonal.*', caract):\n",
    "                caracteristicas['Tamaño'] = listada[ind+1]\n",
    "            elif re.match('.*istancia.*', caract):\n",
    "                caracteristicas['Distancia'] = listada[ind+1]\n",
    "            elif re.match('Tipo de pantalla', caract):\n",
    "                caracteristicas['Tecnología'] = listada[ind+1]\n",
    "            elif re.match('Resolución', caract):\n",
    "                caracteristicas['Resolución'] = listada[ind+1]\n",
    "            elif re.match('Smart TV', caract):\n",
    "                caracteristicas['Smart TV'] = listada[ind+1]\n",
    "            elif re.match('Potencia de sonido.*', caract):\n",
    "                caracteristicas['Sonido'] = listada[ind+1]\n",
    "            elif re.match('Altavoces integrados', caract):\n",
    "                caracteristicas['Altavoces'] = listada[ind+1]\n",
    "            elif re.match('.*entradas HDMI', caract):\n",
    "                caracteristicas['HDMI'] = listada[ind+1]\n",
    "        except:\n",
    "            print(caract)\n",
    "    \n",
    "    televisiones.append(caracteristicas)  "
   ]
  },
  {
   "cell_type": "code",
   "execution_count": 156,
   "id": "1403df06",
   "metadata": {},
   "outputs": [],
   "source": [
    "df = pd.DataFrame(televisiones)"
   ]
  },
  {
   "cell_type": "code",
   "execution_count": 3,
   "id": "fcd16ddf",
   "metadata": {
    "scrolled": true
   },
   "outputs": [
    {
     "ename": "NameError",
     "evalue": "name 'df' is not defined",
     "output_type": "error",
     "traceback": [
      "\u001b[0;31m---------------------------------------------------------------------------\u001b[0m",
      "\u001b[0;31mNameError\u001b[0m                                 Traceback (most recent call last)",
      "\u001b[0;32m<ipython-input-3-c42a15b2c7cf>\u001b[0m in \u001b[0;36m<module>\u001b[0;34m\u001b[0m\n\u001b[0;32m----> 1\u001b[0;31m \u001b[0mdf\u001b[0m\u001b[0;34m.\u001b[0m\u001b[0mhead\u001b[0m\u001b[0;34m(\u001b[0m\u001b[0;34m)\u001b[0m\u001b[0;34m\u001b[0m\u001b[0;34m\u001b[0m\u001b[0m\n\u001b[0m",
      "\u001b[0;31mNameError\u001b[0m: name 'df' is not defined"
     ]
    }
   ],
   "source": [
    "df.head()"
   ]
  },
  {
   "cell_type": "code",
   "execution_count": 158,
   "id": "ecf1a318",
   "metadata": {},
   "outputs": [],
   "source": [
    "df['Marca'] =[modelo.split()[1] for modelo in df['Modelo']]"
   ]
  },
  {
   "cell_type": "code",
   "execution_count": 159,
   "id": "109d4e72",
   "metadata": {},
   "outputs": [],
   "source": [
    "df['Precio'] = [float('.'.join(precio.rstrip('€').split(','))) for precio in df['Precio']]"
   ]
  },
  {
   "cell_type": "code",
   "execution_count": 167,
   "id": "25f1dd92",
   "metadata": {},
   "outputs": [],
   "source": [
    "df['Tamaño'] = [str(pulgadas).split()[0].strip(\"'\") for pulgadas in df['Tamaño']]"
   ]
  },
  {
   "cell_type": "code",
   "execution_count": 154,
   "id": "42f26880",
   "metadata": {},
   "outputs": [
    {
     "data": {
      "text/plain": [
       "'5'"
      ]
     },
     "execution_count": 154,
     "metadata": {},
     "output_type": "execute_result"
    }
   ],
   "source": [
    "df['Tamaño'][5].split()[0].strip(\"'\")\n"
   ]
  },
  {
   "cell_type": "code",
   "execution_count": 170,
   "id": "41a4dcfa",
   "metadata": {},
   "outputs": [],
   "source": [
    "df.to_csv('teles.csv')"
   ]
  }
 ],
 "metadata": {
  "kernelspec": {
   "display_name": "ironhack",
   "language": "python",
   "name": "ironhack"
  },
  "language_info": {
   "codemirror_mode": {
    "name": "ipython",
    "version": 3
   },
   "file_extension": ".py",
   "mimetype": "text/x-python",
   "name": "python",
   "nbconvert_exporter": "python",
   "pygments_lexer": "ipython3",
   "version": "3.8.8"
  }
 },
 "nbformat": 4,
 "nbformat_minor": 5
}
